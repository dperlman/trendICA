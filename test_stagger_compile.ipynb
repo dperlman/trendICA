{
 "cells": [
  {
   "cell_type": "code",
   "execution_count": 24,
   "metadata": {},
   "outputs": [],
   "source": [
    "# do all imports\n",
    "import pandas as pd\n",
    "import os\n",
    "import re\n",
    "import sys\n",
    "import seaborn as sns\n",
    "import matplotlib.pyplot as plt\n",
    "import numpy as np\n",
    "from scipy.stats import mode\n",
    "import plotly.express as px\n",
    "import plotly.graph_objects as go\n",
    "import gtrend_tools\n",
    "from datetime import datetime\n",
    "serpapi_api_key = \"76f3ea1f6758054f7bb79457102d937bc1dff7ae4a1ecc98e6a5751530a11824\"\n",
    "\n"
   ]
  },
  {
   "cell_type": "code",
   "execution_count": 3,
   "metadata": {},
   "outputs": [
    {
     "name": "stdout",
     "output_type": "stream",
     "text": [
      "Original median absolute difference: 21.0\n",
      "Final median absolute difference: 0.14285719364765725\n",
      "Original median absolute difference: 23.85714281452553\n",
      "Final median absolute difference: 0.6334234397146261\n",
      "Original median absolute difference: 13.524708172021455\n",
      "Final median absolute difference: 0.596842531854719\n",
      "Original median absolute difference: 12.865229293679782\n",
      "Final median absolute difference: 0.4760532646045803\n",
      "Original median absolute difference: 11.199708240686611\n",
      "Final median absolute difference: 0.7886848986664354\n",
      "Original median absolute difference: 14.73549100316582\n",
      "Final median absolute difference: 0.18516952483975757\n",
      "Original median absolute difference: 6.7522052553701855\n",
      "Final median absolute difference: 0.3902323740434781\n",
      "Original median absolute difference: 3.676199874052415\n",
      "Final median absolute difference: 0.21933257453453336\n",
      "Original median absolute difference: 2.7674421574656236\n",
      "Final median absolute difference: 0.24068365812858872\n",
      "Original sum of squared differences: 19041\n",
      "Final sum of squared differences: 4.902753791296127\n",
      "Original sum of squared differences: 25714.322381304613\n",
      "Final sum of squared differences: 90.377976404603\n",
      "Original sum of squared differences: 8025.683982799696\n",
      "Final sum of squared differences: 45.309037917307556\n",
      "Original sum of squared differences: 9343.685432086697\n",
      "Final sum of squared differences: 60.606912123302656\n",
      "Original sum of squared differences: 7275.480161145401\n",
      "Final sum of squared differences: 52.29536548699382\n",
      "Original sum of squared differences: 10790.812531433794\n",
      "Final sum of squared differences: 5.366090949768282\n",
      "Original sum of squared differences: 2400.7567632159517\n",
      "Final sum of squared differences: 44.68261559869892\n",
      "Original sum of squared differences: 694.9068560202408\n",
      "Final sum of squared differences: 5.3957910367951305\n",
      "Original sum of squared differences: 321.9548896003385\n",
      "Final sum of squared differences: 6.333823005804487\n"
     ]
    }
   ],
   "source": [
    "cdfMAD = gtrend_tools.search_google_trends_by_day('artificial intelligence', '2024-01-01', '2024-12-20', stagger=1, serpapi_api_key=serpapi_api_key, trim=False, scale=True, method='MAD')\n",
    "cdfSSD = gtrend_tools.search_google_trends_by_day('artificial intelligence', '2024-01-01', '2024-12-20', stagger=1, serpapi_api_key=serpapi_api_key, trim=False, scale=True, method='SSD')\n"
   ]
  },
  {
   "cell_type": "code",
   "execution_count": null,
   "metadata": {},
   "outputs": [
    {
     "name": "stdout",
     "output_type": "stream",
     "text": [
      "\n",
      "Warning: Too many rate limit errors (429). Consider increasing request_delay to Trends(request_delay=120) before Google implements a long-term rate limit!\n",
      "429 Client Error: unknown for url: https://trends.google.com/trends/api/widgetdata/multiline?req=%7B\n",
      "Error in search: {'error': '429 Client Error: unknown for url: https://trends.google.com/trends/api/widgetdata/multiline?req=%7B', 'search_count': 1}\n"
     ]
    }
   ],
   "source": [
    "#result = gtrend_tools.search_google_trends_serpapi(serpapi_api_key, 'artificial intelligence', '2024-01-01', '2024-12-20')\n",
    "#result = gtrend_tools.search_google_trends_by_day('artificial intelligence', '2024-01-01', '2024-12-20', serpapi_api_key=serpapi_api_key)\n",
    "#result = gtrend_tools.search_google_trends_by_day('artificial intelligence', '2024-01-01', '2024-12-20', proxy='http://127.0.0.1:9050', change_identity=True, dry_run=True, combine=False, stagger=1, trim=False, scale=True, method='MAD')\n",
    "#result = gtrend_tools.search_google_trends_by_day('artificial intelligence', '2024-01-01', '2024-12-20')\n",
    "result = gtrend_tools.search_google_trends_by_day('bathroom bill', '2018-01-01', '2024-12-31', dry_run=False, combine=False, stagger=0, trim=False, scale=True, method='MAD', raw_groups=True, request_delay=4)\n"
   ]
  },
  {
   "cell_type": "code",
   "execution_count": 29,
   "metadata": {},
   "outputs": [
    {
     "name": "stdout",
     "output_type": "stream",
     "text": [
      "{'search_metadata': {'id': '6834c935f9c5e9a13811ba9c', 'status': 'Success', 'json_endpoint': 'https://serpapi.com/searches/2dd2e7f358bd4de1/6834c935f9c5e9a13811ba9c.json', 'created_at': '2025-05-26 20:04:05 UTC', 'processed_at': '2025-05-26 20:04:05 UTC', 'google_trends_url': 'https://trends.google.com/trends/embed/explore/TIMESERIES?hl=en&tz=420&req=%7B%22comparisonItem%22%3A%5B%7B%22keyword%22%3A%22artificial+intelligence%22%2C%22geo%22%3A%22US%22%2C%22time%22%3A%222024-01-01T00+2024-01-05T00%22%7D%5D%2C%22category%22%3A0%2C%22property%22%3A%22%22%7D', 'raw_html_file': 'https://serpapi.com/searches/2dd2e7f358bd4de1/6834c935f9c5e9a13811ba9c.html', 'prettify_html_file': 'https://serpapi.com/searches/2dd2e7f358bd4de1/6834c935f9c5e9a13811ba9c.prettify', 'total_time_taken': 8.63}, 'search_parameters': {'engine': 'google_trends', 'q': 'artificial intelligence', 'hl': 'en', 'geo': 'US', 'date': '2024-01-01T00 2024-01-05T00', 'tz': '420', 'data_type': 'TIMESERIES'}, 'interest_over_time': {'timeline_data': [{'date': 'Dec 31, 2023 at 5:00\\u202fPM', 'timestamp': '1704067200', 'values': [{'query': 'artificial intelligence', 'value': '0', 'extracted_value': 0}]}, {'date': 'Dec 31, 2023 at 6:00\\u202fPM', 'timestamp': '1704070800', 'values': [{'query': 'artificial intelligence', 'value': '0', 'extracted_value': 0}]}, {'date': 'Dec 31, 2023 at 7:00\\u202fPM', 'timestamp': '1704074400', 'values': [{'query': 'artificial intelligence', 'value': '0', 'extracted_value': 0}]}, {'date': 'Dec 31, 2023 at 8:00\\u202fPM', 'timestamp': '1704078000', 'values': [{'query': 'artificial intelligence', 'value': '0', 'extracted_value': 0}]}, {'date': 'Dec 31, 2023 at 9:00\\u202fPM', 'timestamp': '1704081600', 'values': [{'query': 'artificial intelligence', 'value': '0', 'extracted_value': 0}]}, {'date': 'Dec 31, 2023 at 10:00\\u202fPM', 'timestamp': '1704085200', 'values': [{'query': 'artificial intelligence', 'value': '0', 'extracted_value': 0}]}, {'date': 'Dec 31, 2023 at 11:00\\u202fPM', 'timestamp': '1704088800', 'values': [{'query': 'artificial intelligence', 'value': '0', 'extracted_value': 0}]}, {'date': 'Jan 1, 2024 at 12:00\\u202fAM', 'timestamp': '1704092400', 'values': [{'query': 'artificial intelligence', 'value': '0', 'extracted_value': 0}]}, {'date': 'Jan 1, 2024 at 1:00\\u202fAM', 'timestamp': '1704096000', 'values': [{'query': 'artificial intelligence', 'value': '0', 'extracted_value': 0}]}, {'date': 'Jan 1, 2024 at 2:00\\u202fAM', 'timestamp': '1704099600', 'values': [{'query': 'artificial intelligence', 'value': '0', 'extracted_value': 0}]}, {'date': 'Jan 1, 2024 at 3:00\\u202fAM', 'timestamp': '1704103200', 'values': [{'query': 'artificial intelligence', 'value': '0', 'extracted_value': 0}]}, {'date': 'Jan 1, 2024 at 4:00\\u202fAM', 'timestamp': '1704106800', 'values': [{'query': 'artificial intelligence', 'value': '0', 'extracted_value': 0}]}, {'date': 'Jan 1, 2024 at 5:00\\u202fAM', 'timestamp': '1704110400', 'values': [{'query': 'artificial intelligence', 'value': '0', 'extracted_value': 0}]}, {'date': 'Jan 1, 2024 at 6:00\\u202fAM', 'timestamp': '1704114000', 'values': [{'query': 'artificial intelligence', 'value': '0', 'extracted_value': 0}]}, {'date': 'Jan 1, 2024 at 7:00\\u202fAM', 'timestamp': '1704117600', 'values': [{'query': 'artificial intelligence', 'value': '0', 'extracted_value': 0}]}, {'date': 'Jan 1, 2024 at 8:00\\u202fAM', 'timestamp': '1704121200', 'values': [{'query': 'artificial intelligence', 'value': '0', 'extracted_value': 0}]}, {'date': 'Jan 1, 2024 at 9:00\\u202fAM', 'timestamp': '1704124800', 'values': [{'query': 'artificial intelligence', 'value': '0', 'extracted_value': 0}]}, {'date': 'Jan 1, 2024 at 10:00\\u202fAM', 'timestamp': '1704128400', 'values': [{'query': 'artificial intelligence', 'value': '0', 'extracted_value': 0}]}, {'date': 'Jan 1, 2024 at 11:00\\u202fAM', 'timestamp': '1704132000', 'values': [{'query': 'artificial intelligence', 'value': '0', 'extracted_value': 0}]}, {'date': 'Jan 1, 2024 at 12:00\\u202fPM', 'timestamp': '1704135600', 'values': [{'query': 'artificial intelligence', 'value': '0', 'extracted_value': 0}]}, {'date': 'Jan 1, 2024 at 1:00\\u202fPM', 'timestamp': '1704139200', 'values': [{'query': 'artificial intelligence', 'value': '0', 'extracted_value': 0}]}, {'date': 'Jan 1, 2024 at 2:00\\u202fPM', 'timestamp': '1704142800', 'values': [{'query': 'artificial intelligence', 'value': '45', 'extracted_value': 45}]}, {'date': 'Jan 1, 2024 at 3:00\\u202fPM', 'timestamp': '1704146400', 'values': [{'query': 'artificial intelligence', 'value': '100', 'extracted_value': 100}]}, {'date': 'Jan 1, 2024 at 4:00\\u202fPM', 'timestamp': '1704150000', 'values': [{'query': 'artificial intelligence', 'value': '40', 'extracted_value': 40}]}, {'date': 'Jan 1, 2024 at 5:00\\u202fPM', 'timestamp': '1704153600', 'values': [{'query': 'artificial intelligence', 'value': '0', 'extracted_value': 0}]}, {'date': 'Jan 1, 2024 at 6:00\\u202fPM', 'timestamp': '1704157200', 'values': [{'query': 'artificial intelligence', 'value': '0', 'extracted_value': 0}]}, {'date': 'Jan 1, 2024 at 7:00\\u202fPM', 'timestamp': '1704160800', 'values': [{'query': 'artificial intelligence', 'value': '31', 'extracted_value': 31}]}, {'date': 'Jan 1, 2024 at 8:00\\u202fPM', 'timestamp': '1704164400', 'values': [{'query': 'artificial intelligence', 'value': '47', 'extracted_value': 47}]}, {'date': 'Jan 1, 2024 at 9:00\\u202fPM', 'timestamp': '1704168000', 'values': [{'query': 'artificial intelligence', 'value': '51', 'extracted_value': 51}]}, {'date': 'Jan 1, 2024 at 10:00\\u202fPM', 'timestamp': '1704171600', 'values': [{'query': 'artificial intelligence', 'value': '0', 'extracted_value': 0}]}, {'date': 'Jan 1, 2024 at 11:00\\u202fPM', 'timestamp': '1704175200', 'values': [{'query': 'artificial intelligence', 'value': '0', 'extracted_value': 0}]}, {'date': 'Jan 2, 2024 at 12:00\\u202fAM', 'timestamp': '1704178800', 'values': [{'query': 'artificial intelligence', 'value': '0', 'extracted_value': 0}]}, {'date': 'Jan 2, 2024 at 1:00\\u202fAM', 'timestamp': '1704182400', 'values': [{'query': 'artificial intelligence', 'value': '0', 'extracted_value': 0}]}, {'date': 'Jan 2, 2024 at 2:00\\u202fAM', 'timestamp': '1704186000', 'values': [{'query': 'artificial intelligence', 'value': '0', 'extracted_value': 0}]}, {'date': 'Jan 2, 2024 at 3:00\\u202fAM', 'timestamp': '1704189600', 'values': [{'query': 'artificial intelligence', 'value': '0', 'extracted_value': 0}]}, {'date': 'Jan 2, 2024 at 4:00\\u202fAM', 'timestamp': '1704193200', 'values': [{'query': 'artificial intelligence', 'value': '0', 'extracted_value': 0}]}, {'date': 'Jan 2, 2024 at 5:00\\u202fAM', 'timestamp': '1704196800', 'values': [{'query': 'artificial intelligence', 'value': '0', 'extracted_value': 0}]}, {'date': 'Jan 2, 2024 at 6:00\\u202fAM', 'timestamp': '1704200400', 'values': [{'query': 'artificial intelligence', 'value': '0', 'extracted_value': 0}]}, {'date': 'Jan 2, 2024 at 7:00\\u202fAM', 'timestamp': '1704204000', 'values': [{'query': 'artificial intelligence', 'value': '83', 'extracted_value': 83}]}, {'date': 'Jan 2, 2024 at 8:00\\u202fAM', 'timestamp': '1704207600', 'values': [{'query': 'artificial intelligence', 'value': '78', 'extracted_value': 78}]}, {'date': 'Jan 2, 2024 at 9:00\\u202fAM', 'timestamp': '1704211200', 'values': [{'query': 'artificial intelligence', 'value': '49', 'extracted_value': 49}]}, {'date': 'Jan 2, 2024 at 10:00\\u202fAM', 'timestamp': '1704214800', 'values': [{'query': 'artificial intelligence', 'value': '53', 'extracted_value': 53}]}, {'date': 'Jan 2, 2024 at 11:00\\u202fAM', 'timestamp': '1704218400', 'values': [{'query': 'artificial intelligence', 'value': '48', 'extracted_value': 48}]}, {'date': 'Jan 2, 2024 at 12:00\\u202fPM', 'timestamp': '1704222000', 'values': [{'query': 'artificial intelligence', 'value': '44', 'extracted_value': 44}]}, {'date': 'Jan 2, 2024 at 1:00\\u202fPM', 'timestamp': '1704225600', 'values': [{'query': 'artificial intelligence', 'value': '44', 'extracted_value': 44}]}, {'date': 'Jan 2, 2024 at 2:00\\u202fPM', 'timestamp': '1704229200', 'values': [{'query': 'artificial intelligence', 'value': '50', 'extracted_value': 50}]}, {'date': 'Jan 2, 2024 at 3:00\\u202fPM', 'timestamp': '1704232800', 'values': [{'query': 'artificial intelligence', 'value': '42', 'extracted_value': 42}]}, {'date': 'Jan 2, 2024 at 4:00\\u202fPM', 'timestamp': '1704236400', 'values': [{'query': 'artificial intelligence', 'value': '0', 'extracted_value': 0}]}, {'date': 'Jan 2, 2024 at 5:00\\u202fPM', 'timestamp': '1704240000', 'values': [{'query': 'artificial intelligence', 'value': '37', 'extracted_value': 37}]}, {'date': 'Jan 2, 2024 at 6:00\\u202fPM', 'timestamp': '1704243600', 'values': [{'query': 'artificial intelligence', 'value': '0', 'extracted_value': 0}]}, {'date': 'Jan 2, 2024 at 7:00\\u202fPM', 'timestamp': '1704247200', 'values': [{'query': 'artificial intelligence', 'value': '47', 'extracted_value': 47}]}, {'date': 'Jan 2, 2024 at 8:00\\u202fPM', 'timestamp': '1704250800', 'values': [{'query': 'artificial intelligence', 'value': '48', 'extracted_value': 48}]}, {'date': 'Jan 2, 2024 at 9:00\\u202fPM', 'timestamp': '1704254400', 'values': [{'query': 'artificial intelligence', 'value': '0', 'extracted_value': 0}]}, {'date': 'Jan 2, 2024 at 10:00\\u202fPM', 'timestamp': '1704258000', 'values': [{'query': 'artificial intelligence', 'value': '0', 'extracted_value': 0}]}, {'date': 'Jan 2, 2024 at 11:00\\u202fPM', 'timestamp': '1704261600', 'values': [{'query': 'artificial intelligence', 'value': '0', 'extracted_value': 0}]}, {'date': 'Jan 3, 2024 at 12:00\\u202fAM', 'timestamp': '1704265200', 'values': [{'query': 'artificial intelligence', 'value': '0', 'extracted_value': 0}]}, {'date': 'Jan 3, 2024 at 1:00\\u202fAM', 'timestamp': '1704268800', 'values': [{'query': 'artificial intelligence', 'value': '0', 'extracted_value': 0}]}, {'date': 'Jan 3, 2024 at 2:00\\u202fAM', 'timestamp': '1704272400', 'values': [{'query': 'artificial intelligence', 'value': '0', 'extracted_value': 0}]}, {'date': 'Jan 3, 2024 at 3:00\\u202fAM', 'timestamp': '1704276000', 'values': [{'query': 'artificial intelligence', 'value': '0', 'extracted_value': 0}]}, {'date': 'Jan 3, 2024 at 4:00\\u202fAM', 'timestamp': '1704279600', 'values': [{'query': 'artificial intelligence', 'value': '0', 'extracted_value': 0}]}, {'date': 'Jan 3, 2024 at 5:00\\u202fAM', 'timestamp': '1704283200', 'values': [{'query': 'artificial intelligence', 'value': '0', 'extracted_value': 0}]}, {'date': 'Jan 3, 2024 at 6:00\\u202fAM', 'timestamp': '1704286800', 'values': [{'query': 'artificial intelligence', 'value': '0', 'extracted_value': 0}]}, {'date': 'Jan 3, 2024 at 7:00\\u202fAM', 'timestamp': '1704290400', 'values': [{'query': 'artificial intelligence', 'value': '0', 'extracted_value': 0}]}, {'date': 'Jan 3, 2024 at 8:00\\u202fAM', 'timestamp': '1704294000', 'values': [{'query': 'artificial intelligence', 'value': '0', 'extracted_value': 0}]}, {'date': 'Jan 3, 2024 at 9:00\\u202fAM', 'timestamp': '1704297600', 'values': [{'query': 'artificial intelligence', 'value': '59', 'extracted_value': 59}]}, {'date': 'Jan 3, 2024 at 10:00\\u202fAM', 'timestamp': '1704301200', 'values': [{'query': 'artificial intelligence', 'value': '44', 'extracted_value': 44}]}, {'date': 'Jan 3, 2024 at 11:00\\u202fAM', 'timestamp': '1704304800', 'values': [{'query': 'artificial intelligence', 'value': '33', 'extracted_value': 33}]}, {'date': 'Jan 3, 2024 at 12:00\\u202fPM', 'timestamp': '1704308400', 'values': [{'query': 'artificial intelligence', 'value': '57', 'extracted_value': 57}]}, {'date': 'Jan 3, 2024 at 1:00\\u202fPM', 'timestamp': '1704312000', 'values': [{'query': 'artificial intelligence', 'value': '46', 'extracted_value': 46}]}, {'date': 'Jan 3, 2024 at 2:00\\u202fPM', 'timestamp': '1704315600', 'values': [{'query': 'artificial intelligence', 'value': '26', 'extracted_value': 26}]}, {'date': 'Jan 3, 2024 at 3:00\\u202fPM', 'timestamp': '1704319200', 'values': [{'query': 'artificial intelligence', 'value': '41', 'extracted_value': 41}]}, {'date': 'Jan 3, 2024 at 4:00\\u202fPM', 'timestamp': '1704322800', 'values': [{'query': 'artificial intelligence', 'value': '31', 'extracted_value': 31}]}, {'date': 'Jan 3, 2024 at 5:00\\u202fPM', 'timestamp': '1704326400', 'values': [{'query': 'artificial intelligence', 'value': '40', 'extracted_value': 40}]}, {'date': 'Jan 3, 2024 at 6:00\\u202fPM', 'timestamp': '1704330000', 'values': [{'query': 'artificial intelligence', 'value': '30', 'extracted_value': 30}]}, {'date': 'Jan 3, 2024 at 7:00\\u202fPM', 'timestamp': '1704333600', 'values': [{'query': 'artificial intelligence', 'value': '0', 'extracted_value': 0}]}, {'date': 'Jan 3, 2024 at 8:00\\u202fPM', 'timestamp': '1704337200', 'values': [{'query': 'artificial intelligence', 'value': '0', 'extracted_value': 0}]}, {'date': 'Jan 3, 2024 at 9:00\\u202fPM', 'timestamp': '1704340800', 'values': [{'query': 'artificial intelligence', 'value': '0', 'extracted_value': 0}]}, {'date': 'Jan 3, 2024 at 10:00\\u202fPM', 'timestamp': '1704344400', 'values': [{'query': 'artificial intelligence', 'value': '0', 'extracted_value': 0}]}, {'date': 'Jan 3, 2024 at 11:00\\u202fPM', 'timestamp': '1704348000', 'values': [{'query': 'artificial intelligence', 'value': '0', 'extracted_value': 0}]}, {'date': 'Jan 4, 2024 at 12:00\\u202fAM', 'timestamp': '1704351600', 'values': [{'query': 'artificial intelligence', 'value': '0', 'extracted_value': 0}]}, {'date': 'Jan 4, 2024 at 1:00\\u202fAM', 'timestamp': '1704355200', 'values': [{'query': 'artificial intelligence', 'value': '0', 'extracted_value': 0}]}, {'date': 'Jan 4, 2024 at 2:00\\u202fAM', 'timestamp': '1704358800', 'values': [{'query': 'artificial intelligence', 'value': '0', 'extracted_value': 0}]}, {'date': 'Jan 4, 2024 at 3:00\\u202fAM', 'timestamp': '1704362400', 'values': [{'query': 'artificial intelligence', 'value': '0', 'extracted_value': 0}]}, {'date': 'Jan 4, 2024 at 4:00\\u202fAM', 'timestamp': '1704366000', 'values': [{'query': 'artificial intelligence', 'value': '0', 'extracted_value': 0}]}, {'date': 'Jan 4, 2024 at 5:00\\u202fAM', 'timestamp': '1704369600', 'values': [{'query': 'artificial intelligence', 'value': '0', 'extracted_value': 0}]}, {'date': 'Jan 4, 2024 at 6:00\\u202fAM', 'timestamp': '1704373200', 'values': [{'query': 'artificial intelligence', 'value': '0', 'extracted_value': 0}]}, {'date': 'Jan 4, 2024 at 7:00\\u202fAM', 'timestamp': '1704376800', 'values': [{'query': 'artificial intelligence', 'value': '0', 'extracted_value': 0}]}, {'date': 'Jan 4, 2024 at 8:00\\u202fAM', 'timestamp': '1704380400', 'values': [{'query': 'artificial intelligence', 'value': '0', 'extracted_value': 0}]}, {'date': 'Jan 4, 2024 at 9:00\\u202fAM', 'timestamp': '1704384000', 'values': [{'query': 'artificial intelligence', 'value': '63', 'extracted_value': 63}]}, {'date': 'Jan 4, 2024 at 10:00\\u202fAM', 'timestamp': '1704387600', 'values': [{'query': 'artificial intelligence', 'value': '47', 'extracted_value': 47}]}, {'date': 'Jan 4, 2024 at 11:00\\u202fAM', 'timestamp': '1704391200', 'values': [{'query': 'artificial intelligence', 'value': '32', 'extracted_value': 32}]}, {'date': 'Jan 4, 2024 at 12:00\\u202fPM', 'timestamp': '1704394800', 'values': [{'query': 'artificial intelligence', 'value': '61', 'extracted_value': 61}]}, {'date': 'Jan 4, 2024 at 1:00\\u202fPM', 'timestamp': '1704398400', 'values': [{'query': 'artificial intelligence', 'value': '42', 'extracted_value': 42}]}, {'date': 'Jan 4, 2024 at 2:00\\u202fPM', 'timestamp': '1704402000', 'values': [{'query': 'artificial intelligence', 'value': '52', 'extracted_value': 52}]}, {'date': 'Jan 4, 2024 at 3:00\\u202fPM', 'timestamp': '1704405600', 'values': [{'query': 'artificial intelligence', 'value': '0', 'extracted_value': 0}]}, {'date': 'Jan 4, 2024 at 4:00\\u202fPM', 'timestamp': '1704409200', 'values': [{'query': 'artificial intelligence', 'value': '0', 'extracted_value': 0}]}, {'date': 'Jan 4, 2024 at 5:00\\u202fPM', 'timestamp': '1704412800', 'values': [{'query': 'artificial intelligence', 'value': '37', 'extracted_value': 37}]}]}}\n"
     ]
    },
    {
     "ename": "ValueError",
     "evalue": "Could not parse date string: Dec 31, 2023 at 5:00 PM",
     "output_type": "error",
     "traceback": [
      "\u001b[31m---------------------------------------------------------------------------\u001b[39m",
      "\u001b[31mValueError\u001b[39m                                Traceback (most recent call last)",
      "\u001b[36mFile \u001b[39m\u001b[32m/Volumes/git/trendICA/gtrend_tools.py:223\u001b[39m, in \u001b[36mget_start_date_of_pair\u001b[39m\u001b[34m(date_str)\u001b[39m\n\u001b[32m    221\u001b[39m \u001b[38;5;28;01mtry\u001b[39;00m:\n\u001b[32m    222\u001b[39m     \u001b[38;5;66;03m# print('Trying to convert to datetime object with format: \"%b %d, %Y\"')\u001b[39;00m\n\u001b[32m--> \u001b[39m\u001b[32m223\u001b[39m     datetime_object = \u001b[43mdatetime\u001b[49m\u001b[43m.\u001b[49m\u001b[43mstrptime\u001b[49m\u001b[43m(\u001b[49m\u001b[43moriginal_date_str\u001b[49m\u001b[43m,\u001b[49m\u001b[43m \u001b[49m\u001b[33;43m\"\u001b[39;49m\u001b[33;43m%\u001b[39;49m\u001b[33;43mb \u001b[39;49m\u001b[38;5;132;43;01m%d\u001b[39;49;00m\u001b[33;43m, \u001b[39;49m\u001b[33;43m%\u001b[39;49m\u001b[33;43mY\u001b[39;49m\u001b[33;43m\"\u001b[39;49m\u001b[43m)\u001b[49m\n\u001b[32m    224\u001b[39m \u001b[38;5;28;01mexcept\u001b[39;00m \u001b[38;5;167;01mValueError\u001b[39;00m:\n",
      "\u001b[36mFile \u001b[39m\u001b[32m~/opt/miniconda3/envs/pytrends/lib/python3.12/_strptime.py:653\u001b[39m, in \u001b[36m_strptime_datetime\u001b[39m\u001b[34m(cls, data_string, format)\u001b[39m\n\u001b[32m    651\u001b[39m \u001b[38;5;250m\u001b[39m\u001b[33;03m\"\"\"Return a class cls instance based on the input string and the\u001b[39;00m\n\u001b[32m    652\u001b[39m \u001b[33;03mformat string.\"\"\"\u001b[39;00m\n\u001b[32m--> \u001b[39m\u001b[32m653\u001b[39m tt, fraction, gmtoff_fraction = \u001b[43m_strptime\u001b[49m\u001b[43m(\u001b[49m\u001b[43mdata_string\u001b[49m\u001b[43m,\u001b[49m\u001b[43m \u001b[49m\u001b[38;5;28;43mformat\u001b[39;49m\u001b[43m)\u001b[49m\n\u001b[32m    654\u001b[39m tzname, gmtoff = tt[-\u001b[32m2\u001b[39m:]\n",
      "\u001b[36mFile \u001b[39m\u001b[32m~/opt/miniconda3/envs/pytrends/lib/python3.12/_strptime.py:435\u001b[39m, in \u001b[36m_strptime\u001b[39m\u001b[34m(data_string, format)\u001b[39m\n\u001b[32m    434\u001b[39m \u001b[38;5;28;01mif\u001b[39;00m \u001b[38;5;28mlen\u001b[39m(data_string) != found.end():\n\u001b[32m--> \u001b[39m\u001b[32m435\u001b[39m     \u001b[38;5;28;01mraise\u001b[39;00m \u001b[38;5;167;01mValueError\u001b[39;00m(\u001b[33m\"\u001b[39m\u001b[33munconverted data remains: \u001b[39m\u001b[38;5;132;01m%s\u001b[39;00m\u001b[33m\"\u001b[39m %\n\u001b[32m    436\u001b[39m                       data_string[found.end():])\n\u001b[32m    438\u001b[39m iso_year = year = \u001b[38;5;28;01mNone\u001b[39;00m\n",
      "\u001b[31mValueError\u001b[39m: unconverted data remains:  at 5:00 PM",
      "\nDuring handling of the above exception, another exception occurred:\n",
      "\u001b[31mValueError\u001b[39m                                Traceback (most recent call last)",
      "\u001b[36mFile \u001b[39m\u001b[32m/Volumes/git/trendICA/gtrend_tools.py:227\u001b[39m, in \u001b[36mget_start_date_of_pair\u001b[39m\u001b[34m(date_str)\u001b[39m\n\u001b[32m    225\u001b[39m \u001b[38;5;28;01mtry\u001b[39;00m:\n\u001b[32m    226\u001b[39m     \u001b[38;5;66;03m# print(f'Trying to convert to datetime object with format: \"%m/%d/%Y\"')\u001b[39;00m\n\u001b[32m--> \u001b[39m\u001b[32m227\u001b[39m     datetime_object = \u001b[43mdatetime\u001b[49m\u001b[43m.\u001b[49m\u001b[43mstrptime\u001b[49m\u001b[43m(\u001b[49m\u001b[43moriginal_date_str\u001b[49m\u001b[43m,\u001b[49m\u001b[43m \u001b[49m\u001b[33;43m\"\u001b[39;49m\u001b[33;43m%\u001b[39;49m\u001b[33;43mm/\u001b[39;49m\u001b[38;5;132;43;01m%d\u001b[39;49;00m\u001b[33;43m/\u001b[39;49m\u001b[33;43m%\u001b[39;49m\u001b[33;43mY\u001b[39;49m\u001b[33;43m\"\u001b[39;49m\u001b[43m)\u001b[49m\n\u001b[32m    228\u001b[39m \u001b[38;5;28;01mexcept\u001b[39;00m \u001b[38;5;167;01mValueError\u001b[39;00m:\n",
      "\u001b[36mFile \u001b[39m\u001b[32m~/opt/miniconda3/envs/pytrends/lib/python3.12/_strptime.py:653\u001b[39m, in \u001b[36m_strptime_datetime\u001b[39m\u001b[34m(cls, data_string, format)\u001b[39m\n\u001b[32m    651\u001b[39m \u001b[38;5;250m\u001b[39m\u001b[33;03m\"\"\"Return a class cls instance based on the input string and the\u001b[39;00m\n\u001b[32m    652\u001b[39m \u001b[33;03mformat string.\"\"\"\u001b[39;00m\n\u001b[32m--> \u001b[39m\u001b[32m653\u001b[39m tt, fraction, gmtoff_fraction = \u001b[43m_strptime\u001b[49m\u001b[43m(\u001b[49m\u001b[43mdata_string\u001b[49m\u001b[43m,\u001b[49m\u001b[43m \u001b[49m\u001b[38;5;28;43mformat\u001b[39;49m\u001b[43m)\u001b[49m\n\u001b[32m    654\u001b[39m tzname, gmtoff = tt[-\u001b[32m2\u001b[39m:]\n",
      "\u001b[36mFile \u001b[39m\u001b[32m~/opt/miniconda3/envs/pytrends/lib/python3.12/_strptime.py:432\u001b[39m, in \u001b[36m_strptime\u001b[39m\u001b[34m(data_string, format)\u001b[39m\n\u001b[32m    431\u001b[39m \u001b[38;5;28;01mif\u001b[39;00m \u001b[38;5;129;01mnot\u001b[39;00m found:\n\u001b[32m--> \u001b[39m\u001b[32m432\u001b[39m     \u001b[38;5;28;01mraise\u001b[39;00m \u001b[38;5;167;01mValueError\u001b[39;00m(\u001b[33m\"\u001b[39m\u001b[33mtime data \u001b[39m\u001b[38;5;132;01m%r\u001b[39;00m\u001b[33m does not match format \u001b[39m\u001b[38;5;132;01m%r\u001b[39;00m\u001b[33m\"\u001b[39m %\n\u001b[32m    433\u001b[39m                      (data_string, \u001b[38;5;28mformat\u001b[39m))\n\u001b[32m    434\u001b[39m \u001b[38;5;28;01mif\u001b[39;00m \u001b[38;5;28mlen\u001b[39m(data_string) != found.end():\n",
      "\u001b[31mValueError\u001b[39m: time data 'Dec 31, 2023 at 5:00 PM' does not match format '%m/%d/%Y'",
      "\nDuring handling of the above exception, another exception occurred:\n",
      "\u001b[31mValueError\u001b[39m                                Traceback (most recent call last)",
      "\u001b[36mFile \u001b[39m\u001b[32m/Volumes/git/trendICA/gtrend_tools.py:231\u001b[39m, in \u001b[36mget_start_date_of_pair\u001b[39m\u001b[34m(date_str)\u001b[39m\n\u001b[32m    229\u001b[39m \u001b[38;5;28;01mtry\u001b[39;00m:\n\u001b[32m    230\u001b[39m     \u001b[38;5;66;03m# print(f'Trying to convert to datetime object with format: \"%b %Y\"')\u001b[39;00m\n\u001b[32m--> \u001b[39m\u001b[32m231\u001b[39m     datetime_object = \u001b[43mdatetime\u001b[49m\u001b[43m.\u001b[49m\u001b[43mstrptime\u001b[49m\u001b[43m(\u001b[49m\u001b[43moriginal_date_str\u001b[49m\u001b[43m,\u001b[49m\u001b[43m \u001b[49m\u001b[33;43m\"\u001b[39;49m\u001b[33;43m%\u001b[39;49m\u001b[33;43mb \u001b[39;49m\u001b[33;43m%\u001b[39;49m\u001b[33;43mY\u001b[39;49m\u001b[33;43m\"\u001b[39;49m\u001b[43m)\u001b[49m\n\u001b[32m    232\u001b[39m \u001b[38;5;28;01mexcept\u001b[39;00m \u001b[38;5;167;01mValueError\u001b[39;00m:\n",
      "\u001b[36mFile \u001b[39m\u001b[32m~/opt/miniconda3/envs/pytrends/lib/python3.12/_strptime.py:653\u001b[39m, in \u001b[36m_strptime_datetime\u001b[39m\u001b[34m(cls, data_string, format)\u001b[39m\n\u001b[32m    651\u001b[39m \u001b[38;5;250m\u001b[39m\u001b[33;03m\"\"\"Return a class cls instance based on the input string and the\u001b[39;00m\n\u001b[32m    652\u001b[39m \u001b[33;03mformat string.\"\"\"\u001b[39;00m\n\u001b[32m--> \u001b[39m\u001b[32m653\u001b[39m tt, fraction, gmtoff_fraction = \u001b[43m_strptime\u001b[49m\u001b[43m(\u001b[49m\u001b[43mdata_string\u001b[49m\u001b[43m,\u001b[49m\u001b[43m \u001b[49m\u001b[38;5;28;43mformat\u001b[39;49m\u001b[43m)\u001b[49m\n\u001b[32m    654\u001b[39m tzname, gmtoff = tt[-\u001b[32m2\u001b[39m:]\n",
      "\u001b[36mFile \u001b[39m\u001b[32m~/opt/miniconda3/envs/pytrends/lib/python3.12/_strptime.py:432\u001b[39m, in \u001b[36m_strptime\u001b[39m\u001b[34m(data_string, format)\u001b[39m\n\u001b[32m    431\u001b[39m \u001b[38;5;28;01mif\u001b[39;00m \u001b[38;5;129;01mnot\u001b[39;00m found:\n\u001b[32m--> \u001b[39m\u001b[32m432\u001b[39m     \u001b[38;5;28;01mraise\u001b[39;00m \u001b[38;5;167;01mValueError\u001b[39;00m(\u001b[33m\"\u001b[39m\u001b[33mtime data \u001b[39m\u001b[38;5;132;01m%r\u001b[39;00m\u001b[33m does not match format \u001b[39m\u001b[38;5;132;01m%r\u001b[39;00m\u001b[33m\"\u001b[39m %\n\u001b[32m    433\u001b[39m                      (data_string, \u001b[38;5;28mformat\u001b[39m))\n\u001b[32m    434\u001b[39m \u001b[38;5;28;01mif\u001b[39;00m \u001b[38;5;28mlen\u001b[39m(data_string) != found.end():\n",
      "\u001b[31mValueError\u001b[39m: time data 'Dec 31, 2023 at 5:00 PM' does not match format '%b %Y'",
      "\nDuring handling of the above exception, another exception occurred:\n",
      "\u001b[31mValueError\u001b[39m                                Traceback (most recent call last)",
      "\u001b[36mCell\u001b[39m\u001b[36m \u001b[39m\u001b[32mIn[29]\u001b[39m\u001b[32m, line 1\u001b[39m\n\u001b[32m----> \u001b[39m\u001b[32m1\u001b[39m daily_test = \u001b[43mgtrend_tools\u001b[49m\u001b[43m.\u001b[49m\u001b[43msearch_google_trends_serpapi\u001b[49m\u001b[43m(\u001b[49m\u001b[43mserpapi_api_key\u001b[49m\u001b[43m,\u001b[49m\u001b[43m \u001b[49m\u001b[33;43m'\u001b[39;49m\u001b[33;43martificial intelligence\u001b[39;49m\u001b[33;43m'\u001b[39;49m\u001b[43m,\u001b[49m\u001b[43m \u001b[49m\u001b[33;43m'\u001b[39;49m\u001b[33;43m2024-01-01T00 2024-01-05T00\u001b[39;49m\u001b[33;43m'\u001b[39;49m\u001b[43m)\u001b[49m\n",
      "\u001b[36mFile \u001b[39m\u001b[32m/Volumes/git/trendICA/gtrend_tools.py:292\u001b[39m, in \u001b[36msearch_google_trends_serpapi\u001b[39m\u001b[34m(serpapi_api_key, search_term, time_range, geo, cat, no_cache)\u001b[39m\n\u001b[32m    290\u001b[39m values = []\n\u001b[32m    291\u001b[39m \u001b[38;5;28;01mfor\u001b[39;00m item \u001b[38;5;129;01min\u001b[39;00m interest_over_time:\n\u001b[32m--> \u001b[39m\u001b[32m292\u001b[39m     date_str = \u001b[43mget_start_date_of_pair\u001b[49m\u001b[43m(\u001b[49m\u001b[43mitem\u001b[49m\u001b[43m[\u001b[49m\u001b[33;43m'\u001b[39;49m\u001b[33;43mdate\u001b[39;49m\u001b[33;43m'\u001b[39;49m\u001b[43m]\u001b[49m\u001b[43m)\u001b[49m\n\u001b[32m    294\u001b[39m     dates.append(date_str)\n\u001b[32m    296\u001b[39m     values.append({\n\u001b[32m    297\u001b[39m         search_term.replace(\u001b[33m\"\u001b[39m\u001b[33m \u001b[39m\u001b[33m\"\u001b[39m, \u001b[33m\"\u001b[39m\u001b[33m_\u001b[39m\u001b[33m\"\u001b[39m): item[\u001b[33m'\u001b[39m\u001b[33mvalues\u001b[39m\u001b[33m'\u001b[39m][\u001b[32m0\u001b[39m][\u001b[33m'\u001b[39m\u001b[33mextracted_value\u001b[39m\u001b[33m'\u001b[39m] \u001b[38;5;28;01mif\u001b[39;00m item[\u001b[33m'\u001b[39m\u001b[33mvalues\u001b[39m\u001b[33m'\u001b[39m] \u001b[38;5;28;01melse\u001b[39;00m \u001b[32m0\u001b[39m\n\u001b[32m    298\u001b[39m     })\n",
      "\u001b[36mFile \u001b[39m\u001b[32m/Volumes/git/trendICA/gtrend_tools.py:233\u001b[39m, in \u001b[36mget_start_date_of_pair\u001b[39m\u001b[34m(date_str)\u001b[39m\n\u001b[32m    231\u001b[39m             datetime_object = datetime.strptime(original_date_str, \u001b[33m\"\u001b[39m\u001b[33m%\u001b[39m\u001b[33mb \u001b[39m\u001b[33m%\u001b[39m\u001b[33mY\u001b[39m\u001b[33m\"\u001b[39m)\n\u001b[32m    232\u001b[39m         \u001b[38;5;28;01mexcept\u001b[39;00m \u001b[38;5;167;01mValueError\u001b[39;00m:\n\u001b[32m--> \u001b[39m\u001b[32m233\u001b[39m             \u001b[38;5;28;01mraise\u001b[39;00m \u001b[38;5;167;01mValueError\u001b[39;00m(\u001b[33mf\u001b[39m\u001b[33m\"\u001b[39m\u001b[33mCould not parse date string: \u001b[39m\u001b[38;5;132;01m{\u001b[39;00moriginal_date_str\u001b[38;5;132;01m}\u001b[39;00m\u001b[33m\"\u001b[39m)\n\u001b[32m    235\u001b[39m output_date_str = datetime_object.strftime(\u001b[33m\"\u001b[39m\u001b[33m%\u001b[39m\u001b[33mY-\u001b[39m\u001b[33m%\u001b[39m\u001b[33mm-\u001b[39m\u001b[38;5;132;01m%d\u001b[39;00m\u001b[33m\"\u001b[39m)\n\u001b[32m    237\u001b[39m \u001b[38;5;66;03m# print(f\"Original date string: {original_date_str} -> New date string: {output_date_str}\")\u001b[39;00m\n",
      "\u001b[31mValueError\u001b[39m: Could not parse date string: Dec 31, 2023 at 5:00 PM"
     ]
    }
   ],
   "source": [
    "daily_test = gtrend_tools.search_google_trends_serpapi(serpapi_api_key, 'artificial intelligence', '2024-01-01T00 2024-01-05T00')\n"
   ]
  },
  {
   "cell_type": "code",
   "execution_count": 25,
   "metadata": {},
   "outputs": [
    {
     "name": "stdout",
     "output_type": "stream",
     "text": [
      "Number of days between 2024-01-01 and 2024-09-26: 269\n"
     ]
    }
   ],
   "source": [
    "start = '2024-01-01'\n",
    "end = '2024-09-26'\n",
    "\n",
    "start_dt = datetime.strptime(start, \"%Y-%m-%d\")\n",
    "end_dt = datetime.strptime(end, \"%Y-%m-%d\")\n",
    "delta = end_dt - start_dt\n",
    "print(f\"Number of days between {start} and {end}: {delta.days}\")\n",
    "\n",
    "# I determined that the maximum number of days between the start and end dates is 270.\n",
    "# This happens when the timedelta is 269 days.\n",
    "\n"
   ]
  }
 ],
 "metadata": {
  "kernelspec": {
   "display_name": "pytrends",
   "language": "python",
   "name": "python3"
  },
  "language_info": {
   "codemirror_mode": {
    "name": "ipython",
    "version": 3
   },
   "file_extension": ".py",
   "mimetype": "text/x-python",
   "name": "python",
   "nbconvert_exporter": "python",
   "pygments_lexer": "ipython3",
   "version": "3.12.10"
  }
 },
 "nbformat": 4,
 "nbformat_minor": 2
}

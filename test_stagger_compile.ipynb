{
 "cells": [
  {
   "cell_type": "code",
   "execution_count": 1,
   "metadata": {},
   "outputs": [],
   "source": [
    "# do all imports\n",
    "import pandas as pd\n",
    "import os\n",
    "import re\n",
    "import sys\n",
    "import seaborn as sns\n",
    "import matplotlib.pyplot as plt\n",
    "import numpy as np\n",
    "from scipy.stats import mode\n",
    "import plotly.express as px\n",
    "import plotly.graph_objects as go\n",
    "import gtrend_tools\n",
    "serpapi_api_key = \"76f3ea1f6758054f7bb79457102d937bc1dff7ae4a1ecc98e6a5751530a11824\"\n",
    "\n"
   ]
  },
  {
   "cell_type": "code",
   "execution_count": 3,
   "metadata": {},
   "outputs": [
    {
     "name": "stdout",
     "output_type": "stream",
     "text": [
      "Original median absolute difference: 21.0\n",
      "Final median absolute difference: 0.14285719364765725\n",
      "Original median absolute difference: 23.85714281452553\n",
      "Final median absolute difference: 0.6334234397146261\n",
      "Original median absolute difference: 13.524708172021455\n",
      "Final median absolute difference: 0.596842531854719\n",
      "Original median absolute difference: 12.865229293679782\n",
      "Final median absolute difference: 0.4760532646045803\n",
      "Original median absolute difference: 11.199708240686611\n",
      "Final median absolute difference: 0.7886848986664354\n",
      "Original median absolute difference: 14.73549100316582\n",
      "Final median absolute difference: 0.18516952483975757\n",
      "Original median absolute difference: 6.7522052553701855\n",
      "Final median absolute difference: 0.3902323740434781\n",
      "Original median absolute difference: 3.676199874052415\n",
      "Final median absolute difference: 0.21933257453453336\n",
      "Original median absolute difference: 2.7674421574656236\n",
      "Final median absolute difference: 0.24068365812858872\n",
      "Original sum of squared differences: 19041\n",
      "Final sum of squared differences: 4.902753791296127\n",
      "Original sum of squared differences: 25714.322381304613\n",
      "Final sum of squared differences: 90.377976404603\n",
      "Original sum of squared differences: 8025.683982799696\n",
      "Final sum of squared differences: 45.309037917307556\n",
      "Original sum of squared differences: 9343.685432086697\n",
      "Final sum of squared differences: 60.606912123302656\n",
      "Original sum of squared differences: 7275.480161145401\n",
      "Final sum of squared differences: 52.29536548699382\n",
      "Original sum of squared differences: 10790.812531433794\n",
      "Final sum of squared differences: 5.366090949768282\n",
      "Original sum of squared differences: 2400.7567632159517\n",
      "Final sum of squared differences: 44.68261559869892\n",
      "Original sum of squared differences: 694.9068560202408\n",
      "Final sum of squared differences: 5.3957910367951305\n",
      "Original sum of squared differences: 321.9548896003385\n",
      "Final sum of squared differences: 6.333823005804487\n"
     ]
    }
   ],
   "source": [
    "cdfMAD = gtrend_tools.search_google_trends_by_day('artificial intelligence', '2024-01-01', '2024-12-20', stagger=1, serpapi_api_key=serpapi_api_key, trim=False, scale=True, method='MAD')\n",
    "cdfSSD = gtrend_tools.search_google_trends_by_day('artificial intelligence', '2024-01-01', '2024-12-20', stagger=1, serpapi_api_key=serpapi_api_key, trim=False, scale=True, method='SSD')\n"
   ]
  },
  {
   "cell_type": "code",
   "execution_count": null,
   "metadata": {},
   "outputs": [
    {
     "name": "stdout",
     "output_type": "stream",
     "text": [
      "Tor identity changed successfully.\n",
      "\n",
      "Warning: Too many rate limit errors (429). Consider increasing request_delay to Trends(request_delay=2) before Google implements a long-term rate limit!\n",
      "429 Client Error: unknown for url: https://trends.google.com/trends/api/widgetdata/multiline?req=%7B\n",
      "Error in search: {'error': '429 Client Error: unknown for url: https://trends.google.com/trends/api/widgetdata/multiline?req=%7B', 'search_count': 1}\n"
     ]
    }
   ],
   "source": [
    "#result = gtrend_tools.search_google_trends_serpapi(serpapi_api_key, 'artificial intelligence', '2024-01-01', '2024-12-20')\n",
    "#result = gtrend_tools.search_google_trends_by_day('artificial intelligence', '2024-01-01', '2024-12-20', serpapi_api_key=serpapi_api_key)\n",
    "#result = gtrend_tools.search_google_trends_by_day('artificial intelligence', '2024-01-01', '2024-12-20', proxy='http://127.0.0.1:9050', change_identity=True, dry_run=True, combine=False, stagger=1, trim=False, scale=True, method='MAD')\n",
    "#result = gtrend_tools.search_google_trends_by_day('artificial intelligence', '2024-01-01', '2024-12-20')\n",
    "result = gtrend_tools.search_google_trends_by_day('bathroom bill', '2018-01-01', '2024-12-31', dry_run=False, combine=False, stagger=1, trim=False, scale=True, method='MAD', raw_groups=True, proxy='http://127.0.0.1:9050', change_identity=True, request_delay=10)\n"
   ]
  }
 ],
 "metadata": {
  "kernelspec": {
   "display_name": "pytrends",
   "language": "python",
   "name": "python3"
  },
  "language_info": {
   "codemirror_mode": {
    "name": "ipython",
    "version": 3
   },
   "file_extension": ".py",
   "mimetype": "text/x-python",
   "name": "python",
   "nbconvert_exporter": "python",
   "pygments_lexer": "ipython3",
   "version": "3.12.10"
  }
 },
 "nbformat": 4,
 "nbformat_minor": 2
}

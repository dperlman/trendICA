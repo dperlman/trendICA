{
 "cells": [
  {
   "cell_type": "code",
   "execution_count": 3,
   "metadata": {},
   "outputs": [],
   "source": [
    "#! /opt/miniconda3/envs/trendspy/bin/python3\n",
    "\n",
    "\n",
    "import requests\n",
    "from typing import Dict, Any, Optional, List, Union\n",
    "from datetime import datetime, timedelta\n",
    "from trendspy import Trends\n",
    "import pandas as pd\n",
    "import time\n",
    "import socket\n",
    "import os\n",
    "import os.path\n",
    "import re\n",
    "import sys\n",
    "#sys.path.append(os.path.dirname(os.getcwd()))\n",
    "import gtrend_tools\n"
   ]
  },
  {
   "cell_type": "code",
   "execution_count": null,
   "metadata": {},
   "outputs": [
    {
     "name": "stdout",
     "output_type": "stream",
     "text": [
      "            qanon_1  qanon_2  qanon_3  qanon_4  qanon_5\n",
      "2018-03-01     42.0      NaN      NaN      NaN      NaN\n",
      "2018-03-02     38.0     38.0      NaN      NaN      NaN\n",
      "2018-03-03     48.0     48.0     48.0      NaN      NaN\n",
      "2018-03-04     45.0     45.0     45.0     45.0      NaN\n",
      "2018-03-05     42.0     42.0     42.0     42.0     41.0\n",
      "...             ...      ...      ...      ...      ...\n",
      "2018-05-30     71.0     71.0     71.0     71.0     70.0\n",
      "2018-05-31      NaN     63.0     63.0     63.0     64.0\n",
      "2018-06-01      NaN      NaN     52.0     52.0     52.0\n",
      "2018-06-02      NaN      NaN      NaN     62.0     65.0\n",
      "2018-06-03      NaN      NaN      NaN      NaN     65.0\n",
      "\n",
      "[95 rows x 5 columns]\n"
     ]
    }
   ],
   "source": [
    "# test the stagger function with serpapi\n",
    "serpapi_api_key = \"76f3ea1f6758054f7bb79457102d937bc1dff7ae4a1ecc98e6a5751530a11824\"\n",
    "stagger_trend_1 = gtrend_tools.search_google_trends_staggered(\n",
    "    search_term=\"qanon\",\n",
    "    start_date=\"2018-03-01\",\n",
    "    number_stagger=5,\n",
    "    serpapi_api_key=serpapi_api_key,\n",
    "    no_cache=False,\n",
    "    geo=\"US\"    \n",
    ")\n",
    "\n",
    "print(stagger_trend_1)"
   ]
  },
  {
   "cell_type": "code",
   "execution_count": null,
   "metadata": {},
   "outputs": [
    {
     "name": "stdout",
     "output_type": "stream",
     "text": [
      "            qanon_1  qanon_2  qanon_3  qanon_4  qanon_5\n",
      "time [UTC]                                             \n",
      "2018-03-01     43.0      NaN      NaN      NaN      NaN\n",
      "2018-03-02     37.0     37.0      NaN      NaN      NaN\n",
      "2018-03-03     47.0     47.0     47.0      NaN      NaN\n",
      "2018-03-04     45.0     45.0     45.0     45.0      NaN\n",
      "2018-03-05     41.0     41.0     41.0     41.0     41.0\n",
      "...             ...      ...      ...      ...      ...\n",
      "2018-05-30     70.0     70.0     70.0     70.0     70.0\n",
      "2018-05-31      NaN     64.0     64.0     64.0     64.0\n",
      "2018-06-01      NaN      NaN     52.0     52.0     52.0\n",
      "2018-06-02      NaN      NaN      NaN     65.0     65.0\n",
      "2018-06-03      NaN      NaN      NaN      NaN     65.0\n",
      "\n",
      "[95 rows x 5 columns]\n"
     ]
    }
   ],
   "source": [
    "# test the stagger function with trendspy\n",
    "stagger_trend_2 = gtrend_tools.search_google_trends_staggered(\n",
    "    search_term=\"qanon\",\n",
    "    start_date=\"2018-03-01\",\n",
    "    number_stagger=5,\n",
    "    proxy=\"localhost:9050\",\n",
    "    request_delay=5,\n",
    "    geo=\"US\"    \n",
    ")\n",
    "\n",
    "print(stagger_trend_2)"
   ]
  },
  {
   "cell_type": "code",
   "execution_count": 8,
   "metadata": {},
   "outputs": [
    {
     "name": "stdout",
     "output_type": "stream",
     "text": [
      "            qanon\n",
      "2018-03-01     42\n",
      "2018-03-02     38\n",
      "2018-03-03     48\n",
      "2018-03-04     45\n",
      "2018-03-05     42\n",
      "...           ...\n",
      "2018-05-26     76\n",
      "2018-05-27     68\n",
      "2018-05-28     66\n",
      "2018-05-29     71\n",
      "2018-05-30     71\n",
      "\n",
      "[91 rows x 1 columns]\n"
     ]
    }
   ],
   "source": [
    "# test the search by day function with serpapi\n",
    "serpapi_api_key = \"76f3ea1f6758054f7bb79457102d937bc1dff7ae4a1ecc98e6a5751530a11824\"\n",
    "trends_by_day_1 = gtrend_tools.search_google_trends_by_day(\n",
    "    search_term=\"qanon\",\n",
    "    start_date=\"2018-03-01\",\n",
    "    serpapi_api_key=serpapi_api_key,\n",
    "    geo=\"US\"\n",
    ")\n",
    "print(trends_by_day_1)\n"
   ]
  },
  {
   "cell_type": "code",
   "execution_count": 9,
   "metadata": {},
   "outputs": [
    {
     "name": "stdout",
     "output_type": "stream",
     "text": [
      "            qanon\n",
      "time [UTC]       \n",
      "2018-03-01     43\n",
      "2018-03-02     37\n",
      "2018-03-03     47\n",
      "2018-03-04     45\n",
      "2018-03-05     41\n",
      "...           ...\n",
      "2018-05-26     76\n",
      "2018-05-27     69\n",
      "2018-05-28     69\n",
      "2018-05-29     71\n",
      "2018-05-30     70\n",
      "\n",
      "[91 rows x 1 columns]\n"
     ]
    }
   ],
   "source": [
    "# test the search by day function with trendspy\n",
    "trends_by_day_2 = gtrend_tools.search_google_trends_by_day(\n",
    "    search_term=\"qanon\",\n",
    "    start_date=\"2018-03-01\",\n",
    "    proxy=\"localhost:9050\",\n",
    "    request_delay=5,\n",
    "    geo=\"US\"    \n",
    ")\n",
    "print(trends_by_day_2)"
   ]
  },
  {
   "cell_type": "code",
   "execution_count": 10,
   "metadata": {},
   "outputs": [
    {
     "name": "stdout",
     "output_type": "stream",
     "text": [
      "            artificial_intelligence\n",
      "2018-03-01                       85\n",
      "2018-03-02                       80\n",
      "2018-03-03                       58\n",
      "2018-03-04                       81\n",
      "2018-03-05                       85\n",
      "...                             ...\n",
      "2018-05-28                       63\n",
      "2018-05-29                       74\n",
      "2018-05-30                       69\n",
      "2018-05-31                       65\n",
      "2018-06-01                       62\n",
      "\n",
      "[93 rows x 1 columns]\n"
     ]
    }
   ],
   "source": [
    "# try searching using serpapi\n",
    "serpapi_api_key = \"76f3ea1f6758054f7bb79457102d937bc1dff7ae4a1ecc98e6a5751530a11824\"\n",
    "trends_1 = gtrend_tools.search_google_trends_choose_api(\n",
    "    search_term=\"artificial intelligence\",\n",
    "    serpapi_api_key=serpapi_api_key,\n",
    "    time_range=\"2018-03-01 2018-06-01\",\n",
    "    geo=\"US\"\n",
    ")\n",
    "print(trends_1)\n"
   ]
  },
  {
   "cell_type": "code",
   "execution_count": null,
   "metadata": {},
   "outputs": [
    {
     "name": "stdout",
     "output_type": "stream",
     "text": [
      "            artificial_intelligence\n",
      "time [UTC]                         \n",
      "2018-03-01                       82\n",
      "2018-03-02                       77\n",
      "2018-03-03                       57\n",
      "2018-03-04                       77\n",
      "2018-03-05                       81\n",
      "...                             ...\n",
      "2018-05-28                       65\n",
      "2018-05-29                       70\n",
      "2018-05-30                       65\n",
      "2018-05-31                       62\n",
      "2018-06-01                       61\n",
      "\n",
      "[93 rows x 1 columns]\n"
     ]
    }
   ],
   "source": [
    "# try searching using trendspy over Tor. DOESNT WORK SOMETIMES DUE TO RATE LIMITING.\n",
    "# Google knows about Tor.\n",
    "results = gtrend_tools.search_google_trends_choose_api(\n",
    "    search_term=\"artificial intelligence\",\n",
    "    time_range=\"2018-03-01 2018-06-01\",\n",
    "    request_delay=2,\n",
    "    #proxy=\"localhost:9050\",\n",
    "        geo=\"US\",\n",
    "    change_identity=False\n",
    ")\n",
    "print(results)"
   ]
  },
  {
   "cell_type": "code",
   "execution_count": 7,
   "metadata": {},
   "outputs": [
    {
     "name": "stdout",
     "output_type": "stream",
     "text": [
      "2018-03-01T00 2018-03-07T23\n",
      "{'search_metadata': {'id': '682cd2c6634a63695c067b61', 'status': 'Success', 'json_endpoint': 'https://serpapi.com/searches/ab0de60d326175f4/682cd2c6634a63695c067b61.json', 'created_at': '2025-05-20 19:06:46 UTC', 'processed_at': '2025-05-20 19:06:46 UTC', 'google_trends_url': 'https://trends.google.com/trends/embed/explore/TIMESERIES?hl=en&tz=420&req=%7B%22comparisonItem%22%3A%5B%7B%22keyword%22%3A%22qanon%22%2C%22geo%22%3A%22US%22%2C%22time%22%3A%222018-03-01T00+2018-03-07T23%22%7D%5D%2C%22category%22%3A0%2C%22property%22%3A%22%22%7D', 'raw_html_file': 'https://serpapi.com/searches/ab0de60d326175f4/682cd2c6634a63695c067b61.html', 'prettify_html_file': 'https://serpapi.com/searches/ab0de60d326175f4/682cd2c6634a63695c067b61.prettify', 'total_time_taken': 9.31}, 'search_parameters': {'engine': 'google_trends', 'q': 'qanon', 'hl': 'en', 'geo': 'US', 'date': '2018-03-01T00 2018-03-07T23', 'tz': '420', 'data_type': 'TIMESERIES'}, 'interest_over_time': {'timeline_data': [{'date': 'Feb 28, 2018 at 5:00\\u202fPM', 'timestamp': '1519862400', 'values': [{'query': 'qanon', 'value': '0', 'extracted_value': 0}]}, {'date': 'Feb 28, 2018 at 6:00\\u202fPM', 'timestamp': '1519866000', 'values': [{'query': 'qanon', 'value': '0', 'extracted_value': 0}]}, {'date': 'Feb 28, 2018 at 7:00\\u202fPM', 'timestamp': '1519869600', 'values': [{'query': 'qanon', 'value': '15', 'extracted_value': 15}]}, {'date': 'Feb 28, 2018 at 8:00\\u202fPM', 'timestamp': '1519873200', 'values': [{'query': 'qanon', 'value': '0', 'extracted_value': 0}]}, {'date': 'Feb 28, 2018 at 9:00\\u202fPM', 'timestamp': '1519876800', 'values': [{'query': 'qanon', 'value': '0', 'extracted_value': 0}]}, {'date': 'Feb 28, 2018 at 10:00\\u202fPM', 'timestamp': '1519880400', 'values': [{'query': 'qanon', 'value': '0', 'extracted_value': 0}]}, {'date': 'Feb 28, 2018 at 11:00\\u202fPM', 'timestamp': '1519884000', 'values': [{'query': 'qanon', 'value': '0', 'extracted_value': 0}]}, {'date': 'Mar 1, 2018 at 12:00\\u202fAM', 'timestamp': '1519887600', 'values': [{'query': 'qanon', 'value': '0', 'extracted_value': 0}]}, {'date': 'Mar 1, 2018 at 1:00\\u202fAM', 'timestamp': '1519891200', 'values': [{'query': 'qanon', 'value': '0', 'extracted_value': 0}]}, {'date': 'Mar 1, 2018 at 2:00\\u202fAM', 'timestamp': '1519894800', 'values': [{'query': 'qanon', 'value': '0', 'extracted_value': 0}]}, {'date': 'Mar 1, 2018 at 3:00\\u202fAM', 'timestamp': '1519898400', 'values': [{'query': 'qanon', 'value': '0', 'extracted_value': 0}]}, {'date': 'Mar 1, 2018 at 4:00\\u202fAM', 'timestamp': '1519902000', 'values': [{'query': 'qanon', 'value': '0', 'extracted_value': 0}]}, {'date': 'Mar 1, 2018 at 5:00\\u202fAM', 'timestamp': '1519905600', 'values': [{'query': 'qanon', 'value': '0', 'extracted_value': 0}]}, {'date': 'Mar 1, 2018 at 6:00\\u202fAM', 'timestamp': '1519909200', 'values': [{'query': 'qanon', 'value': '0', 'extracted_value': 0}]}, {'date': 'Mar 1, 2018 at 7:00\\u202fAM', 'timestamp': '1519912800', 'values': [{'query': 'qanon', 'value': '0', 'extracted_value': 0}]}, {'date': 'Mar 1, 2018 at 8:00\\u202fAM', 'timestamp': '1519916400', 'values': [{'query': 'qanon', 'value': '0', 'extracted_value': 0}]}, {'date': 'Mar 1, 2018 at 9:00\\u202fAM', 'timestamp': '1519920000', 'values': [{'query': 'qanon', 'value': '0', 'extracted_value': 0}]}, {'date': 'Mar 1, 2018 at 10:00\\u202fAM', 'timestamp': '1519923600', 'values': [{'query': 'qanon', 'value': '0', 'extracted_value': 0}]}, {'date': 'Mar 1, 2018 at 11:00\\u202fAM', 'timestamp': '1519927200', 'values': [{'query': 'qanon', 'value': '0', 'extracted_value': 0}]}, {'date': 'Mar 1, 2018 at 12:00\\u202fPM', 'timestamp': '1519930800', 'values': [{'query': 'qanon', 'value': '0', 'extracted_value': 0}]}, {'date': 'Mar 1, 2018 at 1:00\\u202fPM', 'timestamp': '1519934400', 'values': [{'query': 'qanon', 'value': '0', 'extracted_value': 0}]}, {'date': 'Mar 1, 2018 at 2:00\\u202fPM', 'timestamp': '1519938000', 'values': [{'query': 'qanon', 'value': '0', 'extracted_value': 0}]}, {'date': 'Mar 1, 2018 at 3:00\\u202fPM', 'timestamp': '1519941600', 'values': [{'query': 'qanon', 'value': '0', 'extracted_value': 0}]}, {'date': 'Mar 1, 2018 at 4:00\\u202fPM', 'timestamp': '1519945200', 'values': [{'query': 'qanon', 'value': '17', 'extracted_value': 17}]}, {'date': 'Mar 1, 2018 at 5:00\\u202fPM', 'timestamp': '1519948800', 'values': [{'query': 'qanon', 'value': '0', 'extracted_value': 0}]}, {'date': 'Mar 1, 2018 at 6:00\\u202fPM', 'timestamp': '1519952400', 'values': [{'query': 'qanon', 'value': '0', 'extracted_value': 0}]}, {'date': 'Mar 1, 2018 at 7:00\\u202fPM', 'timestamp': '1519956000', 'values': [{'query': 'qanon', 'value': '14', 'extracted_value': 14}]}, {'date': 'Mar 1, 2018 at 8:00\\u202fPM', 'timestamp': '1519959600', 'values': [{'query': 'qanon', 'value': '0', 'extracted_value': 0}]}, {'date': 'Mar 1, 2018 at 9:00\\u202fPM', 'timestamp': '1519963200', 'values': [{'query': 'qanon', 'value': '0', 'extracted_value': 0}]}, {'date': 'Mar 1, 2018 at 10:00\\u202fPM', 'timestamp': '1519966800', 'values': [{'query': 'qanon', 'value': '0', 'extracted_value': 0}]}, {'date': 'Mar 1, 2018 at 11:00\\u202fPM', 'timestamp': '1519970400', 'values': [{'query': 'qanon', 'value': '0', 'extracted_value': 0}]}, {'date': 'Mar 2, 2018 at 12:00\\u202fAM', 'timestamp': '1519974000', 'values': [{'query': 'qanon', 'value': '0', 'extracted_value': 0}]}, {'date': 'Mar 2, 2018 at 1:00\\u202fAM', 'timestamp': '1519977600', 'values': [{'query': 'qanon', 'value': '0', 'extracted_value': 0}]}, {'date': 'Mar 2, 2018 at 2:00\\u202fAM', 'timestamp': '1519981200', 'values': [{'query': 'qanon', 'value': '0', 'extracted_value': 0}]}, {'date': 'Mar 2, 2018 at 3:00\\u202fAM', 'timestamp': '1519984800', 'values': [{'query': 'qanon', 'value': '0', 'extracted_value': 0}]}, {'date': 'Mar 2, 2018 at 4:00\\u202fAM', 'timestamp': '1519988400', 'values': [{'query': 'qanon', 'value': '0', 'extracted_value': 0}]}, {'date': 'Mar 2, 2018 at 5:00\\u202fAM', 'timestamp': '1519992000', 'values': [{'query': 'qanon', 'value': '0', 'extracted_value': 0}]}, {'date': 'Mar 2, 2018 at 6:00\\u202fAM', 'timestamp': '1519995600', 'values': [{'query': 'qanon', 'value': '0', 'extracted_value': 0}]}, {'date': 'Mar 2, 2018 at 7:00\\u202fAM', 'timestamp': '1519999200', 'values': [{'query': 'qanon', 'value': '0', 'extracted_value': 0}]}, {'date': 'Mar 2, 2018 at 8:00\\u202fAM', 'timestamp': '1520002800', 'values': [{'query': 'qanon', 'value': '0', 'extracted_value': 0}]}, {'date': 'Mar 2, 2018 at 9:00\\u202fAM', 'timestamp': '1520006400', 'values': [{'query': 'qanon', 'value': '0', 'extracted_value': 0}]}, {'date': 'Mar 2, 2018 at 10:00\\u202fAM', 'timestamp': '1520010000', 'values': [{'query': 'qanon', 'value': '0', 'extracted_value': 0}]}, {'date': 'Mar 2, 2018 at 11:00\\u202fAM', 'timestamp': '1520013600', 'values': [{'query': 'qanon', 'value': '0', 'extracted_value': 0}]}, {'date': 'Mar 2, 2018 at 12:00\\u202fPM', 'timestamp': '1520017200', 'values': [{'query': 'qanon', 'value': '0', 'extracted_value': 0}]}, {'date': 'Mar 2, 2018 at 1:00\\u202fPM', 'timestamp': '1520020800', 'values': [{'query': 'qanon', 'value': '0', 'extracted_value': 0}]}, {'date': 'Mar 2, 2018 at 2:00\\u202fPM', 'timestamp': '1520024400', 'values': [{'query': 'qanon', 'value': '0', 'extracted_value': 0}]}, {'date': 'Mar 2, 2018 at 3:00\\u202fPM', 'timestamp': '1520028000', 'values': [{'query': 'qanon', 'value': '0', 'extracted_value': 0}]}, {'date': 'Mar 2, 2018 at 4:00\\u202fPM', 'timestamp': '1520031600', 'values': [{'query': 'qanon', 'value': '0', 'extracted_value': 0}]}, {'date': 'Mar 2, 2018 at 5:00\\u202fPM', 'timestamp': '1520035200', 'values': [{'query': 'qanon', 'value': '16', 'extracted_value': 16}]}, {'date': 'Mar 2, 2018 at 6:00\\u202fPM', 'timestamp': '1520038800', 'values': [{'query': 'qanon', 'value': '17', 'extracted_value': 17}]}, {'date': 'Mar 2, 2018 at 7:00\\u202fPM', 'timestamp': '1520042400', 'values': [{'query': 'qanon', 'value': '0', 'extracted_value': 0}]}, {'date': 'Mar 2, 2018 at 8:00\\u202fPM', 'timestamp': '1520046000', 'values': [{'query': 'qanon', 'value': '0', 'extracted_value': 0}]}, {'date': 'Mar 2, 2018 at 9:00\\u202fPM', 'timestamp': '1520049600', 'values': [{'query': 'qanon', 'value': '0', 'extracted_value': 0}]}, {'date': 'Mar 2, 2018 at 10:00\\u202fPM', 'timestamp': '1520053200', 'values': [{'query': 'qanon', 'value': '0', 'extracted_value': 0}]}, {'date': 'Mar 2, 2018 at 11:00\\u202fPM', 'timestamp': '1520056800', 'values': [{'query': 'qanon', 'value': '0', 'extracted_value': 0}]}, {'date': 'Mar 3, 2018 at 12:00\\u202fAM', 'timestamp': '1520060400', 'values': [{'query': 'qanon', 'value': '0', 'extracted_value': 0}]}, {'date': 'Mar 3, 2018 at 1:00\\u202fAM', 'timestamp': '1520064000', 'values': [{'query': 'qanon', 'value': '0', 'extracted_value': 0}]}, {'date': 'Mar 3, 2018 at 2:00\\u202fAM', 'timestamp': '1520067600', 'values': [{'query': 'qanon', 'value': '0', 'extracted_value': 0}]}, {'date': 'Mar 3, 2018 at 3:00\\u202fAM', 'timestamp': '1520071200', 'values': [{'query': 'qanon', 'value': '0', 'extracted_value': 0}]}, {'date': 'Mar 3, 2018 at 4:00\\u202fAM', 'timestamp': '1520074800', 'values': [{'query': 'qanon', 'value': '0', 'extracted_value': 0}]}, {'date': 'Mar 3, 2018 at 5:00\\u202fAM', 'timestamp': '1520078400', 'values': [{'query': 'qanon', 'value': '0', 'extracted_value': 0}]}, {'date': 'Mar 3, 2018 at 6:00\\u202fAM', 'timestamp': '1520082000', 'values': [{'query': 'qanon', 'value': '0', 'extracted_value': 0}]}, {'date': 'Mar 3, 2018 at 7:00\\u202fAM', 'timestamp': '1520085600', 'values': [{'query': 'qanon', 'value': '0', 'extracted_value': 0}]}, {'date': 'Mar 3, 2018 at 8:00\\u202fAM', 'timestamp': '1520089200', 'values': [{'query': 'qanon', 'value': '0', 'extracted_value': 0}]}, {'date': 'Mar 3, 2018 at 9:00\\u202fAM', 'timestamp': '1520092800', 'values': [{'query': 'qanon', 'value': '0', 'extracted_value': 0}]}, {'date': 'Mar 3, 2018 at 10:00\\u202fAM', 'timestamp': '1520096400', 'values': [{'query': 'qanon', 'value': '0', 'extracted_value': 0}]}, {'date': 'Mar 3, 2018 at 11:00\\u202fAM', 'timestamp': '1520100000', 'values': [{'query': 'qanon', 'value': '0', 'extracted_value': 0}]}, {'date': 'Mar 3, 2018 at 12:00\\u202fPM', 'timestamp': '1520103600', 'values': [{'query': 'qanon', 'value': '0', 'extracted_value': 0}]}, {'date': 'Mar 3, 2018 at 1:00\\u202fPM', 'timestamp': '1520107200', 'values': [{'query': 'qanon', 'value': '0', 'extracted_value': 0}]}, {'date': 'Mar 3, 2018 at 2:00\\u202fPM', 'timestamp': '1520110800', 'values': [{'query': 'qanon', 'value': '0', 'extracted_value': 0}]}, {'date': 'Mar 3, 2018 at 3:00\\u202fPM', 'timestamp': '1520114400', 'values': [{'query': 'qanon', 'value': '0', 'extracted_value': 0}]}, {'date': 'Mar 3, 2018 at 4:00\\u202fPM', 'timestamp': '1520118000', 'values': [{'query': 'qanon', 'value': '0', 'extracted_value': 0}]}, {'date': 'Mar 3, 2018 at 5:00\\u202fPM', 'timestamp': '1520121600', 'values': [{'query': 'qanon', 'value': '0', 'extracted_value': 0}]}, {'date': 'Mar 3, 2018 at 6:00\\u202fPM', 'timestamp': '1520125200', 'values': [{'query': 'qanon', 'value': '0', 'extracted_value': 0}]}, {'date': 'Mar 3, 2018 at 7:00\\u202fPM', 'timestamp': '1520128800', 'values': [{'query': 'qanon', 'value': '0', 'extracted_value': 0}]}, {'date': 'Mar 3, 2018 at 8:00\\u202fPM', 'timestamp': '1520132400', 'values': [{'query': 'qanon', 'value': '0', 'extracted_value': 0}]}, {'date': 'Mar 3, 2018 at 9:00\\u202fPM', 'timestamp': '1520136000', 'values': [{'query': 'qanon', 'value': '0', 'extracted_value': 0}]}, {'date': 'Mar 3, 2018 at 10:00\\u202fPM', 'timestamp': '1520139600', 'values': [{'query': 'qanon', 'value': '0', 'extracted_value': 0}]}, {'date': 'Mar 3, 2018 at 11:00\\u202fPM', 'timestamp': '1520143200', 'values': [{'query': 'qanon', 'value': '0', 'extracted_value': 0}]}, {'date': 'Mar 4, 2018 at 12:00\\u202fAM', 'timestamp': '1520146800', 'values': [{'query': 'qanon', 'value': '0', 'extracted_value': 0}]}, {'date': 'Mar 4, 2018 at 1:00\\u202fAM', 'timestamp': '1520150400', 'values': [{'query': 'qanon', 'value': '0', 'extracted_value': 0}]}, {'date': 'Mar 4, 2018 at 2:00\\u202fAM', 'timestamp': '1520154000', 'values': [{'query': 'qanon', 'value': '0', 'extracted_value': 0}]}, {'date': 'Mar 4, 2018 at 3:00\\u202fAM', 'timestamp': '1520157600', 'values': [{'query': 'qanon', 'value': '0', 'extracted_value': 0}]}, {'date': 'Mar 4, 2018 at 4:00\\u202fAM', 'timestamp': '1520161200', 'values': [{'query': 'qanon', 'value': '100', 'extracted_value': 100}]}, {'date': 'Mar 4, 2018 at 5:00\\u202fAM', 'timestamp': '1520164800', 'values': [{'query': 'qanon', 'value': '0', 'extracted_value': 0}]}, {'date': 'Mar 4, 2018 at 6:00\\u202fAM', 'timestamp': '1520168400', 'values': [{'query': 'qanon', 'value': '0', 'extracted_value': 0}]}, {'date': 'Mar 4, 2018 at 7:00\\u202fAM', 'timestamp': '1520172000', 'values': [{'query': 'qanon', 'value': '0', 'extracted_value': 0}]}, {'date': 'Mar 4, 2018 at 8:00\\u202fAM', 'timestamp': '1520175600', 'values': [{'query': 'qanon', 'value': '0', 'extracted_value': 0}]}, {'date': 'Mar 4, 2018 at 9:00\\u202fAM', 'timestamp': '1520179200', 'values': [{'query': 'qanon', 'value': '0', 'extracted_value': 0}]}, {'date': 'Mar 4, 2018 at 10:00\\u202fAM', 'timestamp': '1520182800', 'values': [{'query': 'qanon', 'value': '0', 'extracted_value': 0}]}, {'date': 'Mar 4, 2018 at 11:00\\u202fAM', 'timestamp': '1520186400', 'values': [{'query': 'qanon', 'value': '0', 'extracted_value': 0}]}, {'date': 'Mar 4, 2018 at 12:00\\u202fPM', 'timestamp': '1520190000', 'values': [{'query': 'qanon', 'value': '19', 'extracted_value': 19}]}, {'date': 'Mar 4, 2018 at 1:00\\u202fPM', 'timestamp': '1520193600', 'values': [{'query': 'qanon', 'value': '0', 'extracted_value': 0}]}, {'date': 'Mar 4, 2018 at 2:00\\u202fPM', 'timestamp': '1520197200', 'values': [{'query': 'qanon', 'value': '0', 'extracted_value': 0}]}, {'date': 'Mar 4, 2018 at 3:00\\u202fPM', 'timestamp': '1520200800', 'values': [{'query': 'qanon', 'value': '15', 'extracted_value': 15}]}, {'date': 'Mar 4, 2018 at 4:00\\u202fPM', 'timestamp': '1520204400', 'values': [{'query': 'qanon', 'value': '0', 'extracted_value': 0}]}, {'date': 'Mar 4, 2018 at 5:00\\u202fPM', 'timestamp': '1520208000', 'values': [{'query': 'qanon', 'value': '19', 'extracted_value': 19}]}, {'date': 'Mar 4, 2018 at 6:00\\u202fPM', 'timestamp': '1520211600', 'values': [{'query': 'qanon', 'value': '0', 'extracted_value': 0}]}, {'date': 'Mar 4, 2018 at 7:00\\u202fPM', 'timestamp': '1520215200', 'values': [{'query': 'qanon', 'value': '0', 'extracted_value': 0}]}, {'date': 'Mar 4, 2018 at 8:00\\u202fPM', 'timestamp': '1520218800', 'values': [{'query': 'qanon', 'value': '0', 'extracted_value': 0}]}, {'date': 'Mar 4, 2018 at 9:00\\u202fPM', 'timestamp': '1520222400', 'values': [{'query': 'qanon', 'value': '0', 'extracted_value': 0}]}, {'date': 'Mar 4, 2018 at 10:00\\u202fPM', 'timestamp': '1520226000', 'values': [{'query': 'qanon', 'value': '0', 'extracted_value': 0}]}, {'date': 'Mar 4, 2018 at 11:00\\u202fPM', 'timestamp': '1520229600', 'values': [{'query': 'qanon', 'value': '0', 'extracted_value': 0}]}, {'date': 'Mar 5, 2018 at 12:00\\u202fAM', 'timestamp': '1520233200', 'values': [{'query': 'qanon', 'value': '0', 'extracted_value': 0}]}, {'date': 'Mar 5, 2018 at 1:00\\u202fAM', 'timestamp': '1520236800', 'values': [{'query': 'qanon', 'value': '0', 'extracted_value': 0}]}, {'date': 'Mar 5, 2018 at 2:00\\u202fAM', 'timestamp': '1520240400', 'values': [{'query': 'qanon', 'value': '0', 'extracted_value': 0}]}, {'date': 'Mar 5, 2018 at 3:00\\u202fAM', 'timestamp': '1520244000', 'values': [{'query': 'qanon', 'value': '0', 'extracted_value': 0}]}, {'date': 'Mar 5, 2018 at 4:00\\u202fAM', 'timestamp': '1520247600', 'values': [{'query': 'qanon', 'value': '0', 'extracted_value': 0}]}, {'date': 'Mar 5, 2018 at 5:00\\u202fAM', 'timestamp': '1520251200', 'values': [{'query': 'qanon', 'value': '0', 'extracted_value': 0}]}, {'date': 'Mar 5, 2018 at 6:00\\u202fAM', 'timestamp': '1520254800', 'values': [{'query': 'qanon', 'value': '0', 'extracted_value': 0}]}, {'date': 'Mar 5, 2018 at 7:00\\u202fAM', 'timestamp': '1520258400', 'values': [{'query': 'qanon', 'value': '0', 'extracted_value': 0}]}, {'date': 'Mar 5, 2018 at 8:00\\u202fAM', 'timestamp': '1520262000', 'values': [{'query': 'qanon', 'value': '18', 'extracted_value': 18}]}, {'date': 'Mar 5, 2018 at 9:00\\u202fAM', 'timestamp': '1520265600', 'values': [{'query': 'qanon', 'value': '0', 'extracted_value': 0}]}, {'date': 'Mar 5, 2018 at 10:00\\u202fAM', 'timestamp': '1520269200', 'values': [{'query': 'qanon', 'value': '0', 'extracted_value': 0}]}, {'date': 'Mar 5, 2018 at 11:00\\u202fAM', 'timestamp': '1520272800', 'values': [{'query': 'qanon', 'value': '0', 'extracted_value': 0}]}, {'date': 'Mar 5, 2018 at 12:00\\u202fPM', 'timestamp': '1520276400', 'values': [{'query': 'qanon', 'value': '0', 'extracted_value': 0}]}, {'date': 'Mar 5, 2018 at 1:00\\u202fPM', 'timestamp': '1520280000', 'values': [{'query': 'qanon', 'value': '0', 'extracted_value': 0}]}, {'date': 'Mar 5, 2018 at 2:00\\u202fPM', 'timestamp': '1520283600', 'values': [{'query': 'qanon', 'value': '0', 'extracted_value': 0}]}, {'date': 'Mar 5, 2018 at 3:00\\u202fPM', 'timestamp': '1520287200', 'values': [{'query': 'qanon', 'value': '0', 'extracted_value': 0}]}, {'date': 'Mar 5, 2018 at 4:00\\u202fPM', 'timestamp': '1520290800', 'values': [{'query': 'qanon', 'value': '0', 'extracted_value': 0}]}, {'date': 'Mar 5, 2018 at 5:00\\u202fPM', 'timestamp': '1520294400', 'values': [{'query': 'qanon', 'value': '0', 'extracted_value': 0}]}, {'date': 'Mar 5, 2018 at 6:00\\u202fPM', 'timestamp': '1520298000', 'values': [{'query': 'qanon', 'value': '0', 'extracted_value': 0}]}, {'date': 'Mar 5, 2018 at 7:00\\u202fPM', 'timestamp': '1520301600', 'values': [{'query': 'qanon', 'value': '0', 'extracted_value': 0}]}, {'date': 'Mar 5, 2018 at 8:00\\u202fPM', 'timestamp': '1520305200', 'values': [{'query': 'qanon', 'value': '0', 'extracted_value': 0}]}, {'date': 'Mar 5, 2018 at 9:00\\u202fPM', 'timestamp': '1520308800', 'values': [{'query': 'qanon', 'value': '0', 'extracted_value': 0}]}, {'date': 'Mar 5, 2018 at 10:00\\u202fPM', 'timestamp': '1520312400', 'values': [{'query': 'qanon', 'value': '0', 'extracted_value': 0}]}, {'date': 'Mar 5, 2018 at 11:00\\u202fPM', 'timestamp': '1520316000', 'values': [{'query': 'qanon', 'value': '0', 'extracted_value': 0}]}, {'date': 'Mar 6, 2018 at 12:00\\u202fAM', 'timestamp': '1520319600', 'values': [{'query': 'qanon', 'value': '0', 'extracted_value': 0}]}, {'date': 'Mar 6, 2018 at 1:00\\u202fAM', 'timestamp': '1520323200', 'values': [{'query': 'qanon', 'value': '0', 'extracted_value': 0}]}, {'date': 'Mar 6, 2018 at 2:00\\u202fAM', 'timestamp': '1520326800', 'values': [{'query': 'qanon', 'value': '0', 'extracted_value': 0}]}, {'date': 'Mar 6, 2018 at 3:00\\u202fAM', 'timestamp': '1520330400', 'values': [{'query': 'qanon', 'value': '0', 'extracted_value': 0}]}, {'date': 'Mar 6, 2018 at 4:00\\u202fAM', 'timestamp': '1520334000', 'values': [{'query': 'qanon', 'value': '0', 'extracted_value': 0}]}, {'date': 'Mar 6, 2018 at 5:00\\u202fAM', 'timestamp': '1520337600', 'values': [{'query': 'qanon', 'value': '0', 'extracted_value': 0}]}, {'date': 'Mar 6, 2018 at 6:00\\u202fAM', 'timestamp': '1520341200', 'values': [{'query': 'qanon', 'value': '0', 'extracted_value': 0}]}, {'date': 'Mar 6, 2018 at 7:00\\u202fAM', 'timestamp': '1520344800', 'values': [{'query': 'qanon', 'value': '0', 'extracted_value': 0}]}, {'date': 'Mar 6, 2018 at 8:00\\u202fAM', 'timestamp': '1520348400', 'values': [{'query': 'qanon', 'value': '0', 'extracted_value': 0}]}, {'date': 'Mar 6, 2018 at 9:00\\u202fAM', 'timestamp': '1520352000', 'values': [{'query': 'qanon', 'value': '0', 'extracted_value': 0}]}, {'date': 'Mar 6, 2018 at 10:00\\u202fAM', 'timestamp': '1520355600', 'values': [{'query': 'qanon', 'value': '18', 'extracted_value': 18}]}, {'date': 'Mar 6, 2018 at 11:00\\u202fAM', 'timestamp': '1520359200', 'values': [{'query': 'qanon', 'value': '0', 'extracted_value': 0}]}, {'date': 'Mar 6, 2018 at 12:00\\u202fPM', 'timestamp': '1520362800', 'values': [{'query': 'qanon', 'value': '0', 'extracted_value': 0}]}, {'date': 'Mar 6, 2018 at 1:00\\u202fPM', 'timestamp': '1520366400', 'values': [{'query': 'qanon', 'value': '0', 'extracted_value': 0}]}, {'date': 'Mar 6, 2018 at 2:00\\u202fPM', 'timestamp': '1520370000', 'values': [{'query': 'qanon', 'value': '0', 'extracted_value': 0}]}, {'date': 'Mar 6, 2018 at 3:00\\u202fPM', 'timestamp': '1520373600', 'values': [{'query': 'qanon', 'value': '0', 'extracted_value': 0}]}, {'date': 'Mar 6, 2018 at 4:00\\u202fPM', 'timestamp': '1520377200', 'values': [{'query': 'qanon', 'value': '16', 'extracted_value': 16}]}, {'date': 'Mar 6, 2018 at 5:00\\u202fPM', 'timestamp': '1520380800', 'values': [{'query': 'qanon', 'value': '0', 'extracted_value': 0}]}, {'date': 'Mar 6, 2018 at 6:00\\u202fPM', 'timestamp': '1520384400', 'values': [{'query': 'qanon', 'value': '0', 'extracted_value': 0}]}, {'date': 'Mar 6, 2018 at 7:00\\u202fPM', 'timestamp': '1520388000', 'values': [{'query': 'qanon', 'value': '15', 'extracted_value': 15}]}, {'date': 'Mar 6, 2018 at 8:00\\u202fPM', 'timestamp': '1520391600', 'values': [{'query': 'qanon', 'value': '0', 'extracted_value': 0}]}, {'date': 'Mar 6, 2018 at 9:00\\u202fPM', 'timestamp': '1520395200', 'values': [{'query': 'qanon', 'value': '0', 'extracted_value': 0}]}, {'date': 'Mar 6, 2018 at 10:00\\u202fPM', 'timestamp': '1520398800', 'values': [{'query': 'qanon', 'value': '0', 'extracted_value': 0}]}, {'date': 'Mar 6, 2018 at 11:00\\u202fPM', 'timestamp': '1520402400', 'values': [{'query': 'qanon', 'value': '0', 'extracted_value': 0}]}, {'date': 'Mar 7, 2018 at 12:00\\u202fAM', 'timestamp': '1520406000', 'values': [{'query': 'qanon', 'value': '0', 'extracted_value': 0}]}, {'date': 'Mar 7, 2018 at 1:00\\u202fAM', 'timestamp': '1520409600', 'values': [{'query': 'qanon', 'value': '0', 'extracted_value': 0}]}, {'date': 'Mar 7, 2018 at 2:00\\u202fAM', 'timestamp': '1520413200', 'values': [{'query': 'qanon', 'value': '0', 'extracted_value': 0}]}, {'date': 'Mar 7, 2018 at 3:00\\u202fAM', 'timestamp': '1520416800', 'values': [{'query': 'qanon', 'value': '0', 'extracted_value': 0}]}, {'date': 'Mar 7, 2018 at 4:00\\u202fAM', 'timestamp': '1520420400', 'values': [{'query': 'qanon', 'value': '0', 'extracted_value': 0}]}, {'date': 'Mar 7, 2018 at 5:00\\u202fAM', 'timestamp': '1520424000', 'values': [{'query': 'qanon', 'value': '0', 'extracted_value': 0}]}, {'date': 'Mar 7, 2018 at 6:00\\u202fAM', 'timestamp': '1520427600', 'values': [{'query': 'qanon', 'value': '0', 'extracted_value': 0}]}, {'date': 'Mar 7, 2018 at 7:00\\u202fAM', 'timestamp': '1520431200', 'values': [{'query': 'qanon', 'value': '0', 'extracted_value': 0}]}, {'date': 'Mar 7, 2018 at 8:00\\u202fAM', 'timestamp': '1520434800', 'values': [{'query': 'qanon', 'value': '0', 'extracted_value': 0}]}, {'date': 'Mar 7, 2018 at 9:00\\u202fAM', 'timestamp': '1520438400', 'values': [{'query': 'qanon', 'value': '0', 'extracted_value': 0}]}, {'date': 'Mar 7, 2018 at 10:00\\u202fAM', 'timestamp': '1520442000', 'values': [{'query': 'qanon', 'value': '0', 'extracted_value': 0}]}, {'date': 'Mar 7, 2018 at 11:00\\u202fAM', 'timestamp': '1520445600', 'values': [{'query': 'qanon', 'value': '0', 'extracted_value': 0}]}, {'date': 'Mar 7, 2018 at 12:00\\u202fPM', 'timestamp': '1520449200', 'values': [{'query': 'qanon', 'value': '0', 'extracted_value': 0}]}, {'date': 'Mar 7, 2018 at 1:00\\u202fPM', 'timestamp': '1520452800', 'values': [{'query': 'qanon', 'value': '0', 'extracted_value': 0}]}, {'date': 'Mar 7, 2018 at 2:00\\u202fPM', 'timestamp': '1520456400', 'values': [{'query': 'qanon', 'value': '0', 'extracted_value': 0}]}, {'date': 'Mar 7, 2018 at 3:00\\u202fPM', 'timestamp': '1520460000', 'values': [{'query': 'qanon', 'value': '15', 'extracted_value': 15}]}, {'date': 'Mar 7, 2018 at 4:00\\u202fPM', 'timestamp': '1520463600', 'values': [{'query': 'qanon', 'value': '0', 'extracted_value': 0}]}]}}\n",
      "                     qanon\n",
      "2018-02-28 17:00:00      0\n",
      "2018-02-28 18:00:00      0\n",
      "2018-02-28 19:00:00     15\n",
      "2018-02-28 20:00:00      0\n",
      "2018-02-28 21:00:00      0\n",
      "...                    ...\n",
      "2018-03-07 12:00:00      0\n",
      "2018-03-07 13:00:00      0\n",
      "2018-03-07 14:00:00      0\n",
      "2018-03-07 15:00:00     15\n",
      "2018-03-07 16:00:00      0\n",
      "\n",
      "[168 rows x 1 columns]\n"
     ]
    },
    {
     "name": "stderr",
     "output_type": "stream",
     "text": [
      "/var/folders/8_/6gj3p6295v5_tfndr8d2pbhw0000gn/T/ipykernel_68610/1184859855.py:150: UserWarning: Could not infer format, so each element will be parsed individually, falling back to `dateutil`. To ensure parsing is consistent and as-expected, please specify a format.\n",
      "  index=pd.to_datetime([item['date'] for item in interest_over_time]))\n"
     ]
    }
   ],
   "source": [
    "# now try the hourly search\n",
    "serpapi_api_key = \"76f3ea1f6758054f7bb79457102d937bc1dff7ae4a1ecc98e6a5751530a11824\"\n",
    "trends_hourly_1 = search_google_trends_by_hour(\n",
    "    search_term=\"qanon\",\n",
    "    start_date=\"2018-03-01\",\n",
    "    serpapi_api_key=serpapi_api_key,\n",
    "    geo=\"US\"\n",
    ")\n",
    "print(trends_hourly_1)"
   ]
  }
 ],
 "metadata": {
  "kernelspec": {
   "display_name": "pytrends",
   "language": "python",
   "name": "python3"
  },
  "language_info": {
   "codemirror_mode": {
    "name": "ipython",
    "version": 3
   },
   "file_extension": ".py",
   "mimetype": "text/x-python",
   "name": "python",
   "nbconvert_exporter": "python",
   "pygments_lexer": "ipython3",
   "version": "3.12.10"
  }
 },
 "nbformat": 4,
 "nbformat_minor": 2
}
